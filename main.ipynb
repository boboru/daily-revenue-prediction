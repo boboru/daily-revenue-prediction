{
 "cells": [
  {
   "cell_type": "code",
   "execution_count": 1,
   "metadata": {
    "id": "RcBjJabxLcPi"
   },
   "outputs": [],
   "source": [
    "import pandas as pd\n",
    "import numpy as np\n",
    "import matplotlib.pyplot as plt\n",
    "import seaborn as sns\n",
    "import pickle\n",
    "import re\n",
    "import pandas_profiling\n",
    "\n",
    "from sklearn.linear_model import LogisticRegression #logistic\n",
    "from sklearn.svm import SVC #svc\n",
    "from sklearn.neighbors import NearestNeighbors #knnc\n",
    "from sklearn import tree #Naive tree method\n",
    "from xgboost import XGBRegressor\n",
    "from sklearn.feature_selection import SelectFromModel\n",
    "\n",
    "\n",
    "# from xgboost import XGBClassifier #xgboost\n",
    "from sklearn.model_selection import TimeSeriesSplit\n",
    "from sklearn.metrics import accuracy_score\n",
    "from sklearn.model_selection import GridSearchCV\n",
    "\n",
    "pd.set_option('display.max_columns', 500)\n",
    "pd.set_option('display.max_rows', 500)\n",
    "%matplotlib inline"
   ]
  },
  {
   "cell_type": "markdown",
   "metadata": {
    "id": "ThosYCznLcPs"
   },
   "source": [
    "# Prepare the Dataset"
   ]
  },
  {
   "cell_type": "code",
   "execution_count": 2,
   "metadata": {
    "id": "WhvFYsy1LcPt"
   },
   "outputs": [],
   "source": [
    "train_df = pd.read_csv('train.csv', index_col='ID')\n",
    "test_df = pd.read_csv('test.csv', index_col='ID')\n",
    "\n",
    "train_label = pd.read_csv('train_label.csv',\n",
    "                      parse_dates=['arrival_date'],\n",
    "                      infer_datetime_format=True,\n",
    "                      index_col='arrival_date')\n",
    "\n",
    "convert_type = {\n",
    "    'agent': 'category',\n",
    "    'company': 'category'\n",
    "}\n",
    "\n",
    "# is_canceled = train_df['is_canceled']\n",
    "# adr = train_df['adr']\n",
    "# train_df.drop(columns=['is_canceled', 'adr', 'reservation_status', 'reservation_status_date'],\n",
    "#               inplace=True)\n",
    "\n",
    "\n",
    "X = pd.concat([train_df.drop(columns=['is_canceled', 'adr']),\n",
    "               test_df], axis=0)"
   ]
  },
  {
   "cell_type": "code",
   "execution_count": 3,
   "metadata": {
    "id": "4aP38h32LcPt"
   },
   "outputs": [],
   "source": [
    "# save the datetime\n",
    "X_datetime = X['arrival_date_year'].map(str) + '/' + X['arrival_date_month'] + '/' + X['arrival_date_day_of_month'].map(str)\n",
    "X_datetime = pd.to_datetime(X_datetime, format='%Y/%B/%d').dt.strftime('%Y/%m/%d').str.replace('/0', '/')\n",
    "X_datetime.rename('datetime', inplace=True)\n",
    "X_datetime.loc[train_df.index].to_csv('train_datetime.csv')\n",
    "X_datetime.loc[test_df.index].to_csv('test_datetime.csv')"
   ]
  },
  {
   "cell_type": "code",
   "execution_count": 4,
   "metadata": {
    "id": "j8eTSbyMLcPu",
    "outputId": "9fef296c-ee5a-43e1-f563-6eb9ae0f73d0"
   },
   "outputs": [
    {
     "data": {
      "text/plain": [
       "hotel                              object\n",
       "is_canceled                         int64\n",
       "lead_time                           int64\n",
       "arrival_date_year                   int64\n",
       "arrival_date_month                 object\n",
       "arrival_date_week_number            int64\n",
       "arrival_date_day_of_month           int64\n",
       "stays_in_weekend_nights             int64\n",
       "stays_in_week_nights                int64\n",
       "adults                              int64\n",
       "children                          float64\n",
       "babies                              int64\n",
       "meal                               object\n",
       "country                            object\n",
       "market_segment                     object\n",
       "distribution_channel               object\n",
       "is_repeated_guest                   int64\n",
       "previous_cancellations              int64\n",
       "previous_bookings_not_canceled      int64\n",
       "reserved_room_type                 object\n",
       "assigned_room_type                 object\n",
       "booking_changes                     int64\n",
       "deposit_type                       object\n",
       "agent                              object\n",
       "company                            object\n",
       "days_in_waiting_list                int64\n",
       "customer_type                      object\n",
       "adr                               float64\n",
       "required_car_parking_spaces         int64\n",
       "total_of_special_requests           int64\n",
       "reservation_status                 object\n",
       "reservation_status_date            object\n",
       "dtype: object"
      ]
     },
     "execution_count": 4,
     "metadata": {},
     "output_type": "execute_result"
    }
   ],
   "source": [
    "convert_type = {\n",
    "    'agent': 'object',\n",
    "    'company': 'object'\n",
    "}\n",
    "\n",
    "train_df = train_df.astype(convert_type)\n",
    "train_df.dtypes"
   ]
  },
  {
   "cell_type": "markdown",
   "metadata": {},
   "source": [
    "# Outlier Detection\n",
    "\n",
    "* ID 31980 in training dataset has abnormal adr. Drop the outlier here.\n"
   ]
  },
  {
   "cell_type": "code",
   "execution_count": 5,
   "metadata": {},
   "outputs": [],
   "source": [
    "train_df.drop([31980], inplace=True)"
   ]
  },
  {
   "cell_type": "markdown",
   "metadata": {},
   "source": [
    "# EDA\n",
    "\n",
    "$Revenue=(1-is\\_canceled)*adr*(stays\\_in\\_weekend\\_nights+stays\\_in\\_week\\_nights)$"
   ]
  },
  {
   "cell_type": "code",
   "execution_count": 6,
   "metadata": {},
   "outputs": [],
   "source": [
    "rev_df = pd.read_csv('train_datetime.csv', index_col='ID')\n",
    "rev_df['datetime'] = pd.to_datetime(rev_df['datetime'])\n",
    "rev = (train_df.stays_in_weekend_nights+train_df.stays_in_week_nights) * train_df.adr * (1 - train_df.is_canceled)\n",
    "rev_df['rev'] = rev\n",
    "total_rev = rev_df.groupby('datetime').sum()\n",
    "total_rev = total_rev.join(train_label)\n",
    "total_rev.sort_values(by='rev', inplace=True)\n",
    "total_rev['x'] = range(len(total_rev))"
   ]
  },
  {
   "cell_type": "code",
   "execution_count": 7,
   "metadata": {},
   "outputs": [
    {
     "data": {
      "image/png": "[encoded data removed]",
      "text/plain": [
       "<Figure size 720x432 with 1 Axes>"
      ]
     },
     "metadata": {
      "needs_background": "light"
     },
     "output_type": "display_data"
    }
   ],
   "source": [
    "plt.figure(figsize=(10, 6))\n",
    "total_rev['label'] = total_rev['label'].astype('int')\n",
    "for i, label in enumerate(total_rev['label'].unique()):\n",
    "    temp_df = total_rev[total_rev['label'] == label]\n",
    "    plt.scatter(temp_df['x'],\n",
    "                temp_df['rev'],\n",
    "                label=label,\n",
    "                alpha=0.8)\n",
    "    plt.axhline(i*10000, linestyle='-.', color='gray', linewidth=0.8)\n",
    "plt.yticks(np.arange(0, 100000, step=10000))\n",
    "plt.ylabel('revenue')\n",
    "plt.xlabel('sequence number')\n",
    "plt.title('Daily Revenue with its Label')\n",
    "plt.legend()\n",
    "plt.savefig('fig/revenue.png', bbox_inches='tight', dpi=100)"
   ]
  },
  {
   "cell_type": "code",
   "execution_count": 4,
   "metadata": {},
   "outputs": [
    {
     "data": {
      "application/vnd.jupyter.widget-view+json": {
       "model_id": "065f9af9e6eb41a5aa19402b01bd02f4",
       "version_major": 2,
       "version_minor": 0
      },
      "text/plain": [
       "HBox(children=(FloatProgress(value=0.0, description='Summarize dataset', max=46.0, style=ProgressStyle(descrip…"
      ]
     },
     "metadata": {},
     "output_type": "display_data"
    },
    {
     "name": "stdout",
     "output_type": "stream",
     "text": [
      "\n"
     ]
    },
    {
     "data": {
      "application/vnd.jupyter.widget-view+json": {
       "model_id": "c49433b3add94fc3bace47dd36ca7128",
       "version_major": 2,
       "version_minor": 0
      },
      "text/plain": [
       "HBox(children=(FloatProgress(value=0.0, description='Generate report structure', max=1.0, style=ProgressStyle(…"
      ]
     },
     "metadata": {},
     "output_type": "display_data"
    },
    {
     "name": "stdout",
     "output_type": "stream",
     "text": [
      "\n"
     ]
    },
    {
     "data": {
      "application/vnd.jupyter.widget-view+json": {
       "model_id": "e3c5420709cf40ffa65a80995af6d71e",
       "version_major": 2,
       "version_minor": 0
      },
      "text/plain": [
       "HBox(children=(FloatProgress(value=0.0, description='Render HTML', max=1.0, style=ProgressStyle(description_wi…"
      ]
     },
     "metadata": {},
     "output_type": "display_data"
    },
    {
     "name": "stdout",
     "output_type": "stream",
     "text": [
      "\n"
     ]
    },
    {
     "data": {
      "application/vnd.jupyter.widget-view+json": {
       "model_id": "deeee000c7b84e028733544274d5cfca",
       "version_major": 2,
       "version_minor": 0
      },
      "text/plain": [
       "HBox(children=(FloatProgress(value=0.0, description='Export report to file', max=1.0, style=ProgressStyle(desc…"
      ]
     },
     "metadata": {},
     "output_type": "display_data"
    },
    {
     "name": "stdout",
     "output_type": "stream",
     "text": [
      "\n"
     ]
    }
   ],
   "source": [
    "# Profile Report\n",
    "\n",
    "pfr = pandas_profiling.ProfileReport(train_df)\n",
    "pfr.to_file('report.html')"
   ]
  },
  {
   "cell_type": "code",
   "execution_count": 52,
   "metadata": {},
   "outputs": [
    {
     "data": {
      "image/png": "[encoded data removed]",
      "text/plain": [
       "<Figure size 1260x504 with 6 Axes>"
      ]
     },
     "metadata": {},
     "output_type": "display_data"
    }
   ],
   "source": [
    "# histogram\n",
    "sns.set_theme(style='whitegrid')\n",
    "\n",
    "cols = ['adults', 'children', 'babies', 'previous_cancellations', 'previous_bookings_not_canceled']\n",
    "n = len(cols)\n",
    "fig, axes = plt.subplots(2, 3, figsize=(3.5*n, 7))\n",
    "for i, col in enumerate(cols):\n",
    "    y_axis = 0\n",
    "    if i >= 3:\n",
    "        y_axis = 1\n",
    "    ax = sns.histplot(train_df[col], ax=axes[y_axis][i%3])\n",
    "plt.savefig('fig/hist.png', bbox_inches='tight', dpi=100)"
   ]
  },
  {
   "cell_type": "code",
   "execution_count": 21,
   "metadata": {},
   "outputs": [
    {
     "data": {
      "image/png": "[encoded data removed]",
      "text/plain": [
       "<Figure size 864x1152 with 4 Axes>"
      ]
     },
     "metadata": {},
     "output_type": "display_data"
    }
   ],
   "source": [
    "# violin plot w.r.t. adr\n",
    "\n",
    "sns.set_theme(style='whitegrid')\n",
    "\n",
    "# cols = ['is_canceled', 'reserved_room_type', 'assigned_room_type',\n",
    "#        'arrival_date_month', 'arrival_date_week_number', 'lead_time', 'stays_in_weekend_nights', 'stays_in_week_nights', 'adults', 'children', 'babies', 'meal', 'market_segment', 'distribution_channel',\n",
    "#        'is_repeated_guest', 'previous_cancellations',\n",
    "#        'previous_bookings_not_canceled', 'booking_changes', 'deposit_type', 'required_car_parking_spaces', 'total_of_special_requests']\n",
    "cols = ['reserved_room_type', 'assigned_room_type','stays_in_weekend_nights', 'stays_in_week_nights']\n",
    "n = len(cols)\n",
    "fig, axes = plt.subplots(n, 1, figsize=(12, 4*n))\n",
    "\n",
    "for i, col in enumerate(cols):\n",
    "    ax = sns.violinplot(x=col, y='adr', hue='hotel', split=True, data=train_df, ax=axes[i])\n",
    "#     ax = sns.violinplot(x=col, y='adr', split=True, data=train_df, ax=axes[i])\n",
    "plt.savefig('fig/violin.png', bbox_inches='tight', dpi=100)"
   ]
  },
  {
   "cell_type": "markdown",
   "metadata": {
    "id": "WNyXcdaSLcPv"
   },
   "source": [
    "# Handle Missing Values\n",
    "\n",
    "The PMS assured no missing data exists in its database tables. However, in some categorical\n",
    "variables like **Agent** or **Company**, “NULL” is presented as one of the categories. This should not be\n",
    "considered a missing value, but rather as “not applicable”. For example, if a booking “Agent” is defined as “NULL” it means that the booking did not came from a travel agent."
   ]
  },
  {
   "cell_type": "code",
   "execution_count": 6,
   "metadata": {
    "id": "cx9CaEQRLcPw",
    "outputId": "43bbd6a0-ef5b-4b99-9d9a-bedb43f05fb3"
   },
   "outputs": [
    {
     "data": {
      "text/plain": [
       "hotel                        2\n",
       "arrival_date_month          12\n",
       "meal                         5\n",
       "country                    177\n",
       "market_segment               8\n",
       "distribution_channel         5\n",
       "reserved_room_type          10\n",
       "assigned_room_type          12\n",
       "deposit_type                 3\n",
       "customer_type                4\n",
       "reservation_status           3\n",
       "reservation_status_date    774\n",
       "dtype: int64"
      ]
     },
     "execution_count": 6,
     "metadata": {},
     "output_type": "execute_result"
    }
   ],
   "source": [
    "# numbr of unique values w.r.t. categorical features\n",
    "\n",
    "X.select_dtypes(exclude='number').nunique()"
   ]
  },
  {
   "cell_type": "code",
   "execution_count": 53,
   "metadata": {
    "id": "AccsEjXgLcPw",
    "outputId": "577f2c3a-910e-4728-9aa0-aa6a85a23926"
   },
   "outputs": [
    {
     "data": {
      "text/plain": [
       "lead_time                         479\n",
       "arrival_date_year                   3\n",
       "arrival_date_week_number           53\n",
       "arrival_date_day_of_month          31\n",
       "stays_in_weekend_nights            17\n",
       "stays_in_week_nights               35\n",
       "adults                             14\n",
       "children                            5\n",
       "babies                              5\n",
       "is_repeated_guest                   2\n",
       "previous_cancellations             15\n",
       "previous_bookings_not_canceled     73\n",
       "booking_changes                    21\n",
       "agent                             333\n",
       "company                           352\n",
       "days_in_waiting_list              128\n",
       "required_car_parking_spaces         5\n",
       "total_of_special_requests           6\n",
       "dtype: int64"
      ]
     },
     "execution_count": 53,
     "metadata": {},
     "output_type": "execute_result"
    }
   ],
   "source": [
    "# numbr of unique values w.r.t. numerical features\n",
    "\n",
    "X.select_dtypes(include='number').nunique()"
   ]
  },
  {
   "cell_type": "markdown",
   "metadata": {
    "id": "u9mkBoeZLcPx"
   },
   "source": [
    "## Imputataion"
   ]
  },
  {
   "cell_type": "code",
   "execution_count": 54,
   "metadata": {
    "id": "PTJJAUpxLcPx",
    "outputId": "f540d9f8-9725-4d73-e062-88859b1cfdbb"
   },
   "outputs": [
    {
     "data": {
      "text/plain": [
       "children                   0.000034\n",
       "country                    0.004087\n",
       "agent                      0.136862\n",
       "company                    0.943069\n",
       "reservation_status         0.233345\n",
       "reservation_status_date    0.233345\n",
       "dtype: float64"
      ]
     },
     "execution_count": 54,
     "metadata": {},
     "output_type": "execute_result"
    }
   ],
   "source": [
    "percentage = X.isna().sum() / len(X)\n",
    "percentage[percentage != 0]"
   ]
  },
  {
   "cell_type": "markdown",
   "metadata": {
    "id": "rK1ES6PNLcPy"
   },
   "source": [
    "\n",
    "* Thus, we drop the row in training dataset with missing value in children and country.  \n",
    "* Missing values in country in test dataset will replace to mode (PRT).  \n",
    "* Missing values in agent and company will be considered a new category.\n",
    "\n",
    "(Missing values in country may be a new feature)"
   ]
  },
  {
   "cell_type": "code",
   "execution_count": 55,
   "metadata": {
    "id": "zMzBlCXbLcPy"
   },
   "outputs": [],
   "source": [
    "train_df.drop(train_df[train_df['country'].isna()].index, inplace=True)\n",
    "train_df.drop(train_df[train_df['children'].isna()].index, inplace=True)\n",
    "train_df['agent'].fillna('-1', inplace=True)\n",
    "train_df['company'].fillna('-1', inplace=True)\n",
    "\n",
    "test_df['country'].fillna(train_df['country'].mode()[0], inplace=True)\n",
    "test_df['agent'].fillna('-1', inplace=True)\n",
    "test_df['company'].fillna('-1', inplace=True)"
   ]
  },
  {
   "cell_type": "code",
   "execution_count": 56,
   "metadata": {
    "id": "ypXUtBdSLcPy"
   },
   "outputs": [],
   "source": [
    "train_df.drop(columns = ['reservation_status', 'reservation_status_date'], inplace=True)\n",
    "train_df.to_csv('train_tree.csv')\n",
    "test_df.to_csv('test_tree.csv')"
   ]
  },
  {
   "cell_type": "markdown",
   "metadata": {
    "id": "rgrG9jAtLcPz"
   },
   "source": [
    "## Reduce the categories in several features"
   ]
  },
  {
   "cell_type": "code",
   "execution_count": 57,
   "metadata": {
    "id": "ZQ0XeyH7LcPz",
    "outputId": "c01ff9e7-2ccf-46be-8023-2dda8e1ba5f7"
   },
   "outputs": [
    {
     "data": {
      "text/plain": [
       "adr                               90917\n",
       "lead_time                           452\n",
       "company                             326\n",
       "agent                               301\n",
       "country                             163\n",
       "days_in_waiting_list                114\n",
       "previous_bookings_not_canceled       62\n",
       "arrival_date_week_number             53\n",
       "stays_in_week_nights                 33\n",
       "arrival_date_day_of_month            31\n",
       "booking_changes                      20\n",
       "stays_in_weekend_nights              15\n",
       "previous_cancellations               15\n",
       "adults                               14\n",
       "arrival_date_month                   12\n",
       "assigned_room_type                   11\n",
       "reserved_room_type                    9\n",
       "market_segment                        7\n",
       "total_of_special_requests             6\n",
       "required_car_parking_spaces           5\n",
       "distribution_channel                  5\n",
       "meal                                  5\n",
       "babies                                5\n",
       "children                              5\n",
       "customer_type                         4\n",
       "deposit_type                          3\n",
       "arrival_date_year                     3\n",
       "is_repeated_guest                     2\n",
       "is_canceled                           2\n",
       "hotel                                 2\n",
       "dtype: int64"
      ]
     },
     "execution_count": 57,
     "metadata": {},
     "output_type": "execute_result"
    }
   ],
   "source": [
    "train_df.nunique().sort_values(ascending=False)"
   ]
  },
  {
   "cell_type": "code",
   "execution_count": 58,
   "metadata": {
    "id": "xDwwsmDLLcPz",
    "outputId": "d9367344-a66d-48af-a0b6-1ba94fca5207"
   },
   "outputs": [
    {
     "name": "stdout",
     "output_type": "stream",
     "text": [
      "9.0      0.246458\n",
      "-1       0.388049\n",
      "240.0    0.501351\n",
      "1.0      0.579345\n",
      "7.0      0.609260\n",
      "6.0      0.638275\n",
      "14.0     0.664587\n",
      "250.0    0.686672\n",
      "28.0     0.701608\n",
      "3.0      0.714621\n",
      "241.0    0.727306\n",
      "8.0      0.739935\n",
      "37.0     0.751389\n",
      "19.0     0.760263\n",
      "21.0     0.768818\n",
      "Name: agent, dtype: float64\n"
     ]
    }
   ],
   "source": [
    "cum_agent = np.cumsum((train_df['agent'].value_counts() / len(train_df)).sort_values(ascending=False)).iloc[:15]\n",
    "print(cum_agent)\n",
    "\n",
    "replace_agent = {}\n",
    "for category in train_df['agent'].unique():\n",
    "    if category in cum_agent.index:\n",
    "        replace_agent[category] = category\n",
    "    else:\n",
    "        replace_agent[category] = 'others'\n",
    "\n",
    "for category in test_df['agent'].unique():\n",
    "    if category not in replace_agent:\n",
    "        replace_agent[category] = 'others'\n",
    "        \n",
    "train_df['agent'].replace(replace_agent, inplace=True)\n",
    "test_df['agent'].replace(replace_agent, inplace=True)"
   ]
  },
  {
   "cell_type": "code",
   "execution_count": 59,
   "metadata": {
    "id": "vxydHC_DLcPz",
    "outputId": "32f9fad1-d78f-42cb-9e01-f6cc81290fa4"
   },
   "outputs": [
    {
     "name": "stdout",
     "output_type": "stream",
     "text": [
      "-1       0.940159\n",
      "40.0     0.948912\n",
      "223.0    0.956105\n",
      "67.0     0.959037\n",
      "45.0     0.961255\n",
      "174.0    0.962727\n",
      "281.0    0.964166\n",
      "153.0    0.965571\n",
      "405.0    0.966867\n",
      "233.0    0.968119\n",
      "219.0    0.969327\n",
      "154.0    0.970502\n",
      "51.0     0.971524\n",
      "47.0     0.972259\n",
      "94.0     0.972973\n",
      "Name: company, dtype: float64\n"
     ]
    }
   ],
   "source": [
    "# binary\n",
    "\n",
    "cum_company = np.cumsum((train_df['company'].value_counts() / len(train_df)).sort_values(ascending=False)).iloc[:15]\n",
    "print(cum_company)\n",
    "\n",
    "train_df['company'] = (train_df['company'] == '-1').astype('int')\n",
    "test_df['company'] = (test_df['company'] == '-1').astype('int')"
   ]
  },
  {
   "cell_type": "code",
   "execution_count": 60,
   "metadata": {
    "id": "ThNTGZmGLcP0",
    "outputId": "d676c82e-c9f2-409f-b429-86937f4c64e3"
   },
   "outputs": [
    {
     "name": "stdout",
     "output_type": "stream",
     "text": [
      "PRT    0.442959\n",
      "GBR    0.534527\n",
      "FRA    0.621626\n",
      "ESP    0.696446\n",
      "DEU    0.752257\n",
      "ITA    0.784566\n",
      "IRL    0.809605\n",
      "BRA    0.827198\n",
      "NLD    0.844637\n",
      "BEL    0.861802\n",
      "USA    0.876397\n",
      "CHE    0.888994\n",
      "AUT    0.898779\n",
      "CHN    0.907334\n",
      "CN     0.915537\n",
      "Name: country, dtype: float64\n"
     ]
    }
   ],
   "source": [
    "cum_country = np.cumsum((train_df['country'].value_counts() / len(train_df)).sort_values(ascending=False)).iloc[:15]\n",
    "print(cum_country)\n",
    "\n",
    "replace_country = {}\n",
    "for category in train_df['country'].unique():\n",
    "    if category in cum_country.index:\n",
    "        replace_country[category] = category\n",
    "    else:\n",
    "        replace_country[category] = 'others'\n",
    "\n",
    "for category in test_df['country'].unique():\n",
    "    if category not in replace_country:\n",
    "        replace_country[category] = 'others'        \n",
    "\n",
    "train_df['country'].replace(replace_country, inplace=True)\n",
    "test_df['country'].replace(replace_country, inplace=True)"
   ]
  },
  {
   "cell_type": "markdown",
   "metadata": {
    "id": "EHGtbztOLcP0"
   },
   "source": [
    "# Feature Transformation\n",
    "* hotel: binary"
   ]
  },
  {
   "cell_type": "code",
   "execution_count": 61,
   "metadata": {
    "id": "z_TImj3TLcP0"
   },
   "outputs": [],
   "source": [
    "train_df['hotel'] = (train_df['hotel'] == 'Resort Hotel').astype('int')\n",
    "test_df['hotel'] = (test_df['hotel'] == 'Resort Hotel').astype('int')"
   ]
  },
  {
   "cell_type": "markdown",
   "metadata": {
    "id": "jnsyeOAVLcP1"
   },
   "source": [
    "* arrival_date_month, arrival_date_week_number, arrival_date_day_of_month: cos, sin  \n",
    "[encoding-cyclical-features](https://www.kaggle.com/avanwyk/encoding-cyclical-features-for-deep-learning)"
   ]
  },
  {
   "cell_type": "code",
   "execution_count": 62,
   "metadata": {
    "id": "jmiiCz27LcP1"
   },
   "outputs": [],
   "source": [
    "# # convert January, ..., December to 1, ..., 12\n",
    "# train_df['arrival_date_month'] = pd.to_datetime(train_df['arrival_date_month'], format='%B').dt.strftime('%m').astype('int')\n",
    "# test_df['arrival_date_month'] = pd.to_datetime(test_df['arrival_date_month'], format='%B').dt.strftime('%m').astype('int')"
   ]
  },
  {
   "cell_type": "code",
   "execution_count": 63,
   "metadata": {
    "id": "Yl4w5WysLcP1"
   },
   "outputs": [],
   "source": [
    "# def cyclically_encode(data, col, max_val):\n",
    "#     data[col + '_sin'] = np.sin(2 * np.pi * data[col]/max_val)\n",
    "#     data[col + '_cos'] = np.cos(2 * np.pi * data[col]/max_val)\n",
    "#     return data\n",
    "\n",
    "# cols = ['arrival_date_month', 'arrival_date_week_number', 'arrival_date_day_of_month']\n",
    "# max_vals = [max(train_df[col]) for col in cols]\n",
    "\n",
    "# for col, max_val in zip(cols, max_vals):\n",
    "#     train_df = cyclically_encode(train_df, col, max_val)\n",
    "#     test_df = cyclically_encode(test_df, col, max_val)\n",
    "\n",
    "# train_df.drop(columns=cols + ['arrival_date_year'], inplace=True)\n",
    "# test_df.drop(columns=cols + ['arrival_date_year'], inplace=True)\n",
    "\n",
    "\n",
    "# leave 'arrival_date_month' to create dummy variable for seasonality\n",
    "cols = ['arrival_date_year', 'arrival_date_week_number', 'arrival_date_day_of_month']\n",
    "train_df.drop(columns=cols, inplace=True)\n",
    "test_df.drop(columns=cols, inplace=True)"
   ]
  },
  {
   "cell_type": "markdown",
   "metadata": {
    "id": "dzFcXUjnLcP1"
   },
   "source": [
    "* meal, country, market_segment, distribution_channel, reserved_room_type, assigned_room_type, deposit_type, agent, customer_type: one-hot encoding\n",
    "    - Note that in training data, room_type 'L' doesn't appear in test dataset. And in test dataset, room_type 'P' doesn't appear in training dataset. Here, we covert both of them to 'others'.\n",
    "    - The categroy 'Undefined' in 'distribution_channel' doesn't appear in test dataset, so we add a all-0 column in test dataset."
   ]
  },
  {
   "cell_type": "code",
   "execution_count": 64,
   "metadata": {
    "id": "sxR6D9QfLcP2",
    "outputId": "1b4ba1bd-fad8-4cf5-c83b-f610bac800bd"
   },
   "outputs": [
    {
     "name": "stdout",
     "output_type": "stream",
     "text": [
      "Columns\n",
      "train - test: {'adr', 'is_canceled'}\n",
      "test - train: set()\n"
     ]
    }
   ],
   "source": [
    "train_df['assigned_room_type'].replace({'L': 'others'}, inplace=True)\n",
    "train_df['reserved_room_type'].replace({'L': 'others'}, inplace=True)\n",
    "\n",
    "test_df['assigned_room_type'].replace({'P': 'others'}, inplace=True)\n",
    "test_df['reserved_room_type'].replace({'P': 'others'}, inplace=True)\n",
    "test_df['distribution_channel_Undefined'] = np.zeros(len(test_df))\n",
    "\n",
    "# Feature Generation\n",
    "train_df['is_same_room_type'] = (train_df['assigned_room_type'] == train_df['reserved_room_type']).astype('int')\n",
    "test_df['is_same_room_type'] = (test_df['assigned_room_type'] == test_df['reserved_room_type']).astype('int')\n",
    "\n",
    "train_linear = pd.get_dummies(train_df)\n",
    "test_linear = pd.get_dummies(test_df)\n",
    "\n",
    "for col in set(train_linear.columns) - set(test_linear.columns):\n",
    "    if 'arrival_date_month' in col:\n",
    "        test_linear[col] = [0] * len(test_linear)\n",
    "\n",
    "train_linear.to_csv('train_linear.csv')\n",
    "test_linear.to_csv('test_linear.csv')\n",
    "\n",
    "print('Columns')\n",
    "print('train - test:', set(train_linear.columns) - set(test_linear.columns))\n",
    "print('test - train:', set(test_linear.columns) - set(train_linear.columns))"
   ]
  },
  {
   "cell_type": "markdown",
   "metadata": {},
   "source": [
    "# Feature Engineering"
   ]
  },
  {
   "cell_type": "markdown",
   "metadata": {},
   "source": [
    "cols = 'is_canceled', 'reserved_room_type', 'assigned_room_type', 'lead_time', 'stays_in_weekend_nights', 'stays_in_week_nights', 'adults', 'children', 'babies', 'meal', 'market_segment', 'distribution_channel',\n",
    "'is_repeated_guest', 'previous_cancellations',\n",
    "'previous_bookings_not_canceled', 'booking_changes', 'deposit_type', 'required_car_parking_spaces', 'total_of_special_requests'\n",
    "\n",
    "numerical\n",
    " 'stays_in_weekend_nights', 'stays_in_week_nights', 'adults', 'children', 'babies', 'previous_bookings_not_canceled', 'previous_cancellations', 'booking_changes', 'required_car_parking_spaces', 'total_of_special_requests'\n",
    "\n",
    "categorical\n",
    " 'meal', 'market_segment', 'distribution_channel', 'is_repeated_guest',"
   ]
  },
  {
   "cell_type": "code",
   "execution_count": 65,
   "metadata": {},
   "outputs": [],
   "source": [
    "def generate_feature(df):\n",
    "    df['total_people'] = df['adults'] + df['children'] + df['babies']\n",
    "    \n",
    "    # log transformation for highly-skewed features\n",
    "    cols = ['adults', 'children', 'babies', 'total_people', 'previous_cancellations', 'previous_bookings_not_canceled']\n",
    "    for col in cols:\n",
    "        df[f'log_{col}'] = np.log(df[col] + 1)  # add 1 to avoid log 0\n",
    "    \n",
    "    all_room_type = []\n",
    "    for col in df.columns:\n",
    "        if 'reserved_room' in col or 'assigned_room' in col:\n",
    "            all_room_type.append(col)\n",
    "    \n",
    "    num_col = ['stays_in_weekend_nights',\n",
    "               'stays_in_week_nights',\n",
    "               'log_adults',\n",
    "               'log_children',\n",
    "               'log_babies',\n",
    "               'log_total_people',\n",
    "               'log_previous_bookings_not_canceled',\n",
    "               'log_previous_cancellations',\n",
    "               'adults',\n",
    "               'children',\n",
    "               'babies',\n",
    "               'total_people',\n",
    "               'previous_bookings_not_canceled',\n",
    "               'previous_cancellations',\n",
    "               'booking_changes',\n",
    "               'required_car_parking_spaces',\n",
    "               'total_of_special_requests']\n",
    "    \n",
    "    cat_col = []\n",
    "    for col in df.columns:\n",
    "        if ('meal' in col) or ('market_segment') in col or ('distribution_channel'in col) or ('is_repeated_guest' in col):\n",
    "            cat_col.append(col)\n",
    "\n",
    "    for hotel in [1, 0]:\n",
    "        mask = (df['hotel']==hotel)\n",
    "        for col in all_room_type:\n",
    "            df[f'hotel_{str(hotel)}_' + col] = mask * df[col]\n",
    "            \n",
    "            for category in ['log_adults', 'log_children', 'log_babies', 'log_total_people']:\n",
    "                df[f'hotel_{str(hotel)}_{col}_{category}'] =  df[f'hotel_{str(hotel)}_' + col] * df[category]\n",
    "        \n",
    "        for col in num_col + cat_col:\n",
    "            df[f'hotel_{str(hotel)}_' + col] = mask * df[col]\n",
    "        \n",
    "    return df"
   ]
  },
  {
   "cell_type": "code",
   "execution_count": 66,
   "metadata": {},
   "outputs": [
    {
     "name": "stdout",
     "output_type": "stream",
     "text": [
      "Columns\n",
      "train - test: {'adr', 'is_canceled'}\n",
      "test - train: set()\n"
     ]
    }
   ],
   "source": [
    "# Feature Generation\n",
    "\n",
    "train_linear = pd.read_csv('train_linear.csv', index_col='ID')\n",
    "test_linear = pd.read_csv('test_linear.csv', index_col='ID')\n",
    "\n",
    "train_linear_eng = generate_feature(train_linear)\n",
    "test_linear_eng = generate_feature(test_linear)\n",
    "\n",
    "# drop all zero columns in training data\n",
    "train_linear_eng = train_linear_eng.loc[:, (train_linear_eng != 0).any(axis=0)]\n",
    "\n",
    "# drop all columns that are not appear in training data\n",
    "to_del_col = []\n",
    "for col in test_linear_eng.columns:\n",
    "    if col not in train_linear_eng:\n",
    "        to_del_col.append(col)\n",
    "    \n",
    "test_linear_eng.drop(columns=to_del_col, inplace=True)\n",
    "\n",
    "train_linear_eng = train_linear_eng.sort_index(axis=1)\n",
    "test_linear_eng = test_linear_eng\n",
    "\n",
    "print('Columns')\n",
    "print('train - test:', set(train_linear_eng.columns) - set(test_linear_eng.columns))\n",
    "print('test - train:', set(test_linear_eng.columns) - set(train_linear_eng.columns))"
   ]
  },
  {
   "cell_type": "code",
   "execution_count": 68,
   "metadata": {},
   "outputs": [
    {
     "data": {
      "text/plain": [
       "(91058, 340)"
      ]
     },
     "execution_count": 68,
     "metadata": {},
     "output_type": "execute_result"
    }
   ],
   "source": [
    "X_train_std.shape"
   ]
  },
  {
   "cell_type": "code",
   "execution_count": 67,
   "metadata": {},
   "outputs": [],
   "source": [
    "# Standardization\n",
    "from sklearn.preprocessing import StandardScaler\n",
    "\n",
    "y_train_clf = train_linear['is_canceled']\n",
    "y_train_reg = train_linear['adr']\n",
    "\n",
    "# sort the dataframe w.r.t. columns names\n",
    "X_train = train_linear_eng.drop(columns=['is_canceled', 'adr']).sort_index(axis=1)\n",
    "X_test = test_linear_eng.sort_index(axis=1) \n",
    "\n",
    "# no need to standardize binary variables\n",
    "bin_col = X_train.columns[X_train.nunique() == 2]\n",
    "non_bin_col = X_train.columns.difference(bin_col)\n",
    "\n",
    "scaler = StandardScaler().fit(X_train[non_bin_col])\n",
    "X_train_std = pd.DataFrame(scaler.transform(X_train[non_bin_col]), columns=non_bin_col, index=X_train.index)\n",
    "X_test_std = pd.DataFrame(scaler.transform(X_test[non_bin_col]), columns=non_bin_col, index=X_test.index)\n",
    "\n",
    "X_train_std = pd.concat([X_train[bin_col], X_train_std], axis=1)\n",
    "X_test_std = pd.concat([X_test[bin_col], X_test_std], axis=1)\n",
    "\n",
    "# --- separated way ---\n",
    "# train_index_0 = train_linear['hotel'] == 0\n",
    "# train_index_1 = train_linear['hotel'] == 1\n",
    "\n",
    "# test_index_0 = test_linear['hotel'] == 0\n",
    "# test_index_1 = test_linear['hotel'] == 1\n",
    "\n",
    "# y_train_sep = [train_linear[train_index_0]['is_canceled'],\n",
    "#                train_linear[train_index_1]['is_canceled']]\n",
    "\n",
    "# X_train_sep = [train_linear[train_index_0].drop(columns=['hotel', 'is_canceled', 'adr']),\n",
    "#                train_linear[train_index_1].drop(columns=['hotel', 'is_canceled', 'adr'])]\n",
    "\n",
    "# X_test_sep = [test_linear[test_index_0].drop(columns=['hotel']),\n",
    "#               test_linear[test_index_1].drop(columns=['hotel'])]\n",
    "\n",
    "# for i in range(len(X_train_sep)):\n",
    "#     df_train = X_train_sep[i]\n",
    "#     df_train = df_train.loc[:, (df_train != 0).any(axis=0)]\n",
    "    \n",
    "#     df_test = X_test_sep[i][df_train.columns]\n",
    "    \n",
    "#     scaler = StandardScaler().fit(df_train)\n",
    "#     X_train_sep[i] = scaler.transform(df_train)\n",
    "#     X_test_sep[i] = scaler.transform(df_test)      \n",
    "\n",
    "# X_train = train_linear_eng.drop(columns=['is_canceled', 'adr'])\n",
    "# X_test = test_linear_eng\n",
    "\n",
    "# scaler = StandardScaler().fit(X_train)\n",
    "# X_train_std = scaler.transform(X_train)\n",
    "# X_test_std = scaler.transform(X_test)"
   ]
  },
  {
   "cell_type": "code",
   "execution_count": 72,
   "metadata": {},
   "outputs": [],
   "source": [
    "temp = pd.read_csv('train_tree.csv', index_col=0)\n",
    "# temp['adr'] = y_train_reg\n",
    "col = list(temp.columns)\n",
    "col.remove('adr')\n",
    "col.remove('arrival_date_year')\n",
    "col.remove('arrival_date_month')\n",
    "col.remove('arrival_date_week_number')\n",
    "col.remove('arrival_date_day_of_month')\n",
    "grouped = temp.groupby(col)"
   ]
  },
  {
   "cell_type": "code",
   "execution_count": 73,
   "metadata": {},
   "outputs": [],
   "source": [
    "df_ = []\n",
    "for name, group in grouped:\n",
    "    if len(df_) == 10:\n",
    "        break\n",
    "    if len(group) >= 10:\n",
    "        df_.append(group)\n"
   ]
  },
  {
   "cell_type": "markdown",
   "metadata": {},
   "source": [
    "# Model\n",
    "## is_canceled\n",
    "LogisticRegression(C=0.01, l1_ratio=0.6000000000000001, n_jobs=-1,\n",
    "                   penalty='elasticnet', solver='saga', verbose=1)"
   ]
  },
  {
   "cell_type": "markdown",
   "metadata": {},
   "source": [
    "### Feature Selection"
   ]
  },
  {
   "cell_type": "code",
   "execution_count": 110,
   "metadata": {},
   "outputs": [
    {
     "name": "stderr",
     "output_type": "stream",
     "text": [
      "[Parallel(n_jobs=-1)]: Using backend ThreadingBackend with 4 concurrent workers.\n"
     ]
    },
    {
     "name": "stdout",
     "output_type": "stream",
     "text": [
      "convergence after 2447 epochs took 2296 seconds\n"
     ]
    },
    {
     "name": "stderr",
     "output_type": "stream",
     "text": [
      "[Parallel(n_jobs=-1)]: Done   1 out of   1 | elapsed: 38.3min finished\n"
     ]
    },
    {
     "name": "stdout",
     "output_type": "stream",
     "text": [
      "Index(['adults', 'agent_21.0', 'agent_6.0', 'agent_8.0',\n",
      "       'arrival_date_month_January', 'arrival_date_month_November',\n",
      "       'assigned_room_type_others', 'booking_changes', 'children',\n",
      "       'country_AUT', 'country_BRA', 'country_CHE', 'country_CHN',\n",
      "       'country_CN', 'country_ESP', 'country_FRA', 'country_GBR',\n",
      "       'country_ITA', 'country_NLD', 'country_USA', 'customer_type_Contract',\n",
      "       'customer_type_Group', 'days_in_waiting_list',\n",
      "       'hotel_0_log_previous_bookings_not_canceled',\n",
      "       'hotel_0_market_segment_Offline TA/TO',\n",
      "       'hotel_0_reserved_room_type_C_log_total_people',\n",
      "       'hotel_0_reserved_room_type_D', 'hotel_0_reserved_room_type_E',\n",
      "       'hotel_0_reserved_room_type_E_log_adults',\n",
      "       'hotel_0_reserved_room_type_E_log_babies',\n",
      "       'hotel_0_reserved_room_type_F_log_children', 'hotel_1_adults',\n",
      "       'hotel_1_assigned_room_type_A_log_total_people',\n",
      "       'hotel_1_assigned_room_type_H_log_total_people',\n",
      "       'hotel_1_assigned_room_type_I_log_babies',\n",
      "       'hotel_1_assigned_room_type_I_log_children', 'hotel_1_meal_FB',\n",
      "       'hotel_1_meal_SC', 'hotel_1_reserved_room_type_H',\n",
      "       'hotel_1_reserved_room_type_H_log_total_people',\n",
      "       'required_car_parking_spaces', 'reserved_room_type_D',\n",
      "       'reserved_room_type_E', 'reserved_room_type_others',\n",
      "       'stays_in_weekend_nights', 'total_of_special_requests', 'total_people'],\n",
      "      dtype='object')\n"
     ]
    }
   ],
   "source": [
    "lr = LogisticRegression(C=0.01,\n",
    "                        l1_ratio=0.6,\n",
    "                        max_iter=4000,\n",
    "                        n_jobs=-1,\n",
    "                        penalty='elasticnet',\n",
    "                        solver='saga',\n",
    "                        verbose=1).fit(X_train_std, y_train_clf)\n",
    "selector = SelectFromModel(lr, prefit=True)\n",
    "X_train_clf = selector.transform(X_train_std)\n",
    "X_test_clf = selector.transform(X_test_std)\n",
    "\n",
    "print(X_train.columns[selector.get_support()])"
   ]
  },
  {
   "cell_type": "code",
   "execution_count": 111,
   "metadata": {},
   "outputs": [],
   "source": [
    "pd.DataFrame(X_train_clf, columns=X_train.columns[selector.get_support()]).to_csv('X_train_clf.csv')\n",
    "pd.DataFrame(X_test_clf, columns=X_train.columns[selector.get_support()]).to_csv('X_test_clf.csv')"
   ]
  },
  {
   "cell_type": "markdown",
   "metadata": {},
   "source": [
    "### CV"
   ]
  },
  {
   "cell_type": "code",
   "execution_count": null,
   "metadata": {},
   "outputs": [],
   "source": [
    "param_grid = {'C': [0.001, 0.01, 0.1, 0, 1, 10, 100, 1000],\n",
    "              'l1_ratio': np.arange(0.0, 1.1, 0.1)}\n",
    "\n",
    "tscv = TimeSeriesSplit(n_splits = 5)\n",
    "lr = LogisticRegression(penalty='elasticnet', n_jobs=-1, verbose=1, solver='saga')\n",
    "clf = GridSearchCV(lr, param_grid, cv=tscv, scoring = 'accuracy')\n",
    "clf.fit(X_train_sel, y_train_clf)"
   ]
  },
  {
   "cell_type": "code",
   "execution_count": 110,
   "metadata": {},
   "outputs": [
    {
     "name": "stderr",
     "output_type": "stream",
     "text": [
      "[Parallel(n_jobs=-1)]: Using backend LokyBackend with 4 concurrent workers.\n",
      "[Parallel(n_jobs=-1)]: Done   1 out of   1 | elapsed:    2.0s finished\n",
      "[Parallel(n_jobs=-1)]: Using backend LokyBackend with 4 concurrent workers.\n",
      "[Parallel(n_jobs=-1)]: Done   1 out of   1 | elapsed:    8.8s finished\n",
      "[Parallel(n_jobs=-1)]: Using backend LokyBackend with 4 concurrent workers.\n",
      "[Parallel(n_jobs=-1)]: Done   1 out of   1 | elapsed:   10.1s finished\n",
      "[Parallel(n_jobs=-1)]: Using backend LokyBackend with 4 concurrent workers.\n",
      "[Parallel(n_jobs=-1)]: Done   1 out of   1 | elapsed:   13.3s finished\n",
      "[Parallel(n_jobs=-1)]: Using backend LokyBackend with 4 concurrent workers.\n",
      "[Parallel(n_jobs=-1)]: Done   1 out of   1 | elapsed:   13.9s finished\n",
      "[Parallel(n_jobs=-1)]: Using backend LokyBackend with 4 concurrent workers.\n",
      "[Parallel(n_jobs=-1)]: Done   1 out of   1 | elapsed:   40.1s finished\n",
      "[Parallel(n_jobs=-1)]: Using backend LokyBackend with 4 concurrent workers.\n",
      "[Parallel(n_jobs=-1)]: Done   1 out of   1 | elapsed:   47.3s finished\n",
      "[Parallel(n_jobs=-1)]: Using backend LokyBackend with 4 concurrent workers.\n",
      "[Parallel(n_jobs=-1)]: Done   1 out of   1 | elapsed:   43.0s finished\n",
      "[Parallel(n_jobs=-1)]: Using backend LokyBackend with 4 concurrent workers.\n",
      "[Parallel(n_jobs=-1)]: Done   1 out of   1 | elapsed:  1.0min finished\n",
      "[Parallel(n_jobs=-1)]: Using backend LokyBackend with 4 concurrent workers.\n",
      "[Parallel(n_jobs=-1)]: Done   1 out of   1 | elapsed:  1.1min finished\n",
      "[Parallel(n_jobs=-1)]: Using backend ThreadingBackend with 4 concurrent workers.\n"
     ]
    },
    {
     "name": "stdout",
     "output_type": "stream",
     "text": [
      "max_iter reached after 75 seconds\n"
     ]
    },
    {
     "name": "stderr",
     "output_type": "stream",
     "text": [
      "C:\\Users\\Owner\\Anaconda3\\lib\\site-packages\\sklearn\\linear_model\\_sag.py:330: ConvergenceWarning: The max_iter was reached which means the coef_ did not converge\n",
      "  \"the coef_ did not converge\", ConvergenceWarning)\n",
      "[Parallel(n_jobs=-1)]: Done   1 out of   1 | elapsed:  1.2min finished\n",
      "[Parallel(n_jobs=-1)]: Using backend LokyBackend with 4 concurrent workers.\n",
      "[Parallel(n_jobs=-1)]: Done   1 out of   1 | elapsed:    4.4s finished\n",
      "[Parallel(n_jobs=-1)]: Using backend LokyBackend with 4 concurrent workers.\n",
      "[Parallel(n_jobs=-1)]: Done   1 out of   1 | elapsed:    8.9s finished\n",
      "[Parallel(n_jobs=-1)]: Using backend LokyBackend with 4 concurrent workers.\n",
      "[Parallel(n_jobs=-1)]: Done   1 out of   1 | elapsed:   13.3s finished\n",
      "[Parallel(n_jobs=-1)]: Using backend LokyBackend with 4 concurrent workers.\n",
      "[Parallel(n_jobs=-1)]: Done   1 out of   1 | elapsed:   17.7s finished\n",
      "[Parallel(n_jobs=-1)]: Using backend LokyBackend with 4 concurrent workers.\n",
      "[Parallel(n_jobs=-1)]: Done   1 out of   1 | elapsed:   22.7s finished\n",
      "[Parallel(n_jobs=-1)]: Using backend LokyBackend with 4 concurrent workers.\n",
      "[Parallel(n_jobs=-1)]: Done   1 out of   1 | elapsed:   28.2s finished\n",
      "[Parallel(n_jobs=-1)]: Using backend LokyBackend with 4 concurrent workers.\n",
      "[Parallel(n_jobs=-1)]: Done   1 out of   1 | elapsed:   31.5s finished\n",
      "[Parallel(n_jobs=-1)]: Using backend LokyBackend with 4 concurrent workers.\n",
      "[Parallel(n_jobs=-1)]: Done   1 out of   1 | elapsed:   36.2s finished\n",
      "[Parallel(n_jobs=-1)]: Using backend LokyBackend with 4 concurrent workers.\n",
      "[Parallel(n_jobs=-1)]: Done   1 out of   1 | elapsed:   41.0s finished\n",
      "[Parallel(n_jobs=-1)]: Using backend LokyBackend with 4 concurrent workers.\n",
      "[Parallel(n_jobs=-1)]: Done   1 out of   1 | elapsed:   50.2s finished\n",
      "[Parallel(n_jobs=-1)]: Using backend ThreadingBackend with 4 concurrent workers.\n"
     ]
    },
    {
     "name": "stdout",
     "output_type": "stream",
     "text": [
      "max_iter reached after 58 seconds\n"
     ]
    },
    {
     "name": "stderr",
     "output_type": "stream",
     "text": [
      "C:\\Users\\Owner\\Anaconda3\\lib\\site-packages\\sklearn\\linear_model\\_sag.py:330: ConvergenceWarning: The max_iter was reached which means the coef_ did not converge\n",
      "  \"the coef_ did not converge\", ConvergenceWarning)\n",
      "[Parallel(n_jobs=-1)]: Done   1 out of   1 | elapsed:   57.6s finished\n"
     ]
    }
   ],
   "source": [
    "X = X_train_clf\n",
    "y = y_train_clf\n",
    "\n",
    "param_grid = {}\n",
    "\n",
    "tscv = TimeSeriesSplit(n_splits = 10)\n",
    "lr = LogisticRegression(C=0.01,\n",
    "                           l1_ratio=0.6,\n",
    "                           max_iter=500,\n",
    "                           n_jobs=-1,\n",
    "                           penalty='elasticnet',\n",
    "                           solver='saga',\n",
    "                           verbose=1)\n",
    "clf = GridSearchCV(lr, param_grid, cv=tscv, scoring = 'accuracy', n_jobs=-1, refit=False)\n",
    "clf.fit(X, y)\n",
    "result.append(clf)\n",
    "\n",
    "# test for feature engineering\n",
    "\n",
    "# result = []\n",
    "# for X, y in zip(X_train_sep, y_train_sep):\n",
    "#     param_grid = {}\n",
    "\n",
    "#     tscv = TimeSeriesSplit(n_splits = 10)\n",
    "#     lr = LogisticRegression(C=0.01,\n",
    "#                            l1_ratio=0.6,\n",
    "#                            max_iter=500,\n",
    "#                            n_jobs=-1,\n",
    "#                            penalty='elasticnet',\n",
    "#                            solver='saga',\n",
    "#                            verbose=1)\n",
    "#     clf = GridSearchCV(lr, param_grid, cv=tscv, scoring = 'accuracy')\n",
    "#     clf.fit(X, y)\n",
    "#     result.append(clf)"
   ]
  },
  {
   "cell_type": "markdown",
   "metadata": {},
   "source": [
    "### Predict"
   ]
  },
  {
   "cell_type": "code",
   "execution_count": 147,
   "metadata": {},
   "outputs": [
    {
     "name": "stderr",
     "output_type": "stream",
     "text": [
      "[Parallel(n_jobs=-1)]: Using backend ThreadingBackend with 4 concurrent workers.\n"
     ]
    },
    {
     "name": "stdout",
     "output_type": "stream",
     "text": [
      "convergence after 126 epochs took 15 seconds\n"
     ]
    },
    {
     "name": "stderr",
     "output_type": "stream",
     "text": [
      "[Parallel(n_jobs=-1)]: Done   1 out of   1 | elapsed:   14.8s finished\n"
     ]
    }
   ],
   "source": [
    "lr = LogisticRegression(C=0.01,\n",
    "                        l1_ratio=0.6,\n",
    "                        max_iter=500,\n",
    "                        n_jobs=-1,\n",
    "                        penalty='elasticnet',\n",
    "                        solver='saga',\n",
    "                        verbose=1).fit(X_train_clf, y_train_clf)"
   ]
  },
  {
   "cell_type": "code",
   "execution_count": 156,
   "metadata": {},
   "outputs": [],
   "source": [
    "prob_predict = lr.predict_proba(X_test_clf)[:, 0]\n",
    "pd.Series(prob_predict).to_csv('output/result_prob_logistic_acc_0.812.csv')"
   ]
  },
  {
   "cell_type": "markdown",
   "metadata": {},
   "source": [
    "## adr\n",
    "### Feature Selection"
   ]
  },
  {
   "cell_type": "code",
   "execution_count": 77,
   "metadata": {},
   "outputs": [
    {
     "name": "stdout",
     "output_type": "stream",
     "text": [
      "Index(['agent_-1.0', 'agent_8.0', 'arrival_date_month_April',\n",
      "       'arrival_date_month_December', 'arrival_date_month_February',\n",
      "       'arrival_date_month_January', 'arrival_date_month_June',\n",
      "       'arrival_date_month_October', 'hotel_0_meal_BB',\n",
      "       'hotel_0_reserved_room_type_D_log_total_people',\n",
      "       'hotel_0_reserved_room_type_E_log_babies',\n",
      "       'hotel_0_reserved_room_type_F',\n",
      "       'hotel_1_assigned_room_type_D_log_babies',\n",
      "       'hotel_1_assigned_room_type_E_log_total_people',\n",
      "       'hotel_1_assigned_room_type_F_log_children',\n",
      "       'hotel_1_assigned_room_type_F_log_total_people', 'hotel_1_children',\n",
      "       'hotel_1_distribution_channel_TA/TO', 'hotel_1_log_babies',\n",
      "       'hotel_1_log_total_people', 'hotel_1_market_segment_Online TA',\n",
      "       'hotel_1_meal_BB', 'hotel_1_reserved_room_type_B_log_total_people',\n",
      "       'hotel_1_reserved_room_type_D_log_children',\n",
      "       'hotel_1_reserved_room_type_F',\n",
      "       'hotel_1_reserved_room_type_F_log_babies',\n",
      "       'hotel_1_reserved_room_type_G_log_children',\n",
      "       'hotel_1_reserved_room_type_others', 'market_segment_Aviation',\n",
      "       'market_segment_Complementary', 'market_segment_Offline TA/TO',\n",
      "       'required_car_parking_spaces', 'reserved_room_type_C',\n",
      "       'reserved_room_type_D', 'reserved_room_type_E', 'reserved_room_type_F',\n",
      "       'reserved_room_type_others', 'stays_in_week_nights',\n",
      "       'stays_in_weekend_nights', 'total_of_special_requests'],\n",
      "      dtype='object')\n"
     ]
    }
   ],
   "source": [
    "from sklearn.linear_model import Lasso\n",
    "from sklearn.preprocessing import PolynomialFeatures\n",
    "\n",
    "# Polynomial Features Transform (Q=2)\n",
    "# poly = PolynomialFeatures(degree=2, interaction_only=True)\n",
    "# X_train_std = poly.fit_transform(X_train_std)\n",
    "\n",
    "lasso = Lasso().fit(X_train_std, y_train_reg)\n",
    "selector = SelectFromModel(lasso, prefit=True)\n",
    "X_train_reg = selector.transform(X_train_std)\n",
    "X_test_reg = selector.transform(X_test_std)\n",
    "print(X_train.columns[selector.get_support()])"
   ]
  },
  {
   "cell_type": "code",
   "execution_count": 113,
   "metadata": {},
   "outputs": [],
   "source": [
    "pd.DataFrame(X_train_reg, columns=X_train.columns[selector.get_support()]).to_csv('X_train_reg.csv')\n",
    "pd.DataFrame(X_test_reg, columns=X_train.columns[selector.get_support()]).to_csv('X_test_reg.csv')"
   ]
  },
  {
   "cell_type": "markdown",
   "metadata": {},
   "source": [
    "### CV"
   ]
  },
  {
   "cell_type": "code",
   "execution_count": 132,
   "metadata": {},
   "outputs": [
    {
     "data": {
      "application/vnd.jupyter.widget-view+json": {
       "model_id": "bcbdcc085c154347b8b1553d624c8e12",
       "version_major": 2,
       "version_minor": 0
      },
      "text/plain": [
       "HBox(children=(FloatProgress(value=0.0, description='Summarize dataset', max=54.0, style=ProgressStyle(descrip…"
      ]
     },
     "metadata": {},
     "output_type": "display_data"
    },
    {
     "name": "stdout",
     "output_type": "stream",
     "text": [
      "\n"
     ]
    },
    {
     "data": {
      "application/vnd.jupyter.widget-view+json": {
       "model_id": "01552e654c3c46bd9456fca0aee627c2",
       "version_major": 2,
       "version_minor": 0
      },
      "text/plain": [
       "HBox(children=(FloatProgress(value=0.0, description='Generate report structure', max=1.0, style=ProgressStyle(…"
      ]
     },
     "metadata": {},
     "output_type": "display_data"
    },
    {
     "name": "stdout",
     "output_type": "stream",
     "text": [
      "\n"
     ]
    },
    {
     "data": {
      "application/vnd.jupyter.widget-view+json": {
       "model_id": "011f4e3169b94fe6a208e6fa8f14d01d",
       "version_major": 2,
       "version_minor": 0
      },
      "text/plain": [
       "HBox(children=(FloatProgress(value=0.0, description='Render HTML', max=1.0, style=ProgressStyle(description_wi…"
      ]
     },
     "metadata": {},
     "output_type": "display_data"
    },
    {
     "name": "stdout",
     "output_type": "stream",
     "text": [
      "\n"
     ]
    },
    {
     "data": {
      "application/vnd.jupyter.widget-view+json": {
       "model_id": "44f467571b2e4deba1eb6150cf87a9bb",
       "version_major": 2,
       "version_minor": 0
      },
      "text/plain": [
       "HBox(children=(FloatProgress(value=0.0, description='Export report to file', max=1.0, style=ProgressStyle(desc…"
      ]
     },
     "metadata": {},
     "output_type": "display_data"
    },
    {
     "name": "stdout",
     "output_type": "stream",
     "text": [
      "\n"
     ]
    }
   ],
   "source": [
    "pandas_profiling.ProfileReport(pd.DataFrame(X_train_reg, columns=X_train.columns[selector.get_support()])).to_file('X_train_reg_report.html')"
   ]
  },
  {
   "cell_type": "code",
   "execution_count": null,
   "metadata": {},
   "outputs": [],
   "source": [
    "from sklearn.linear_model import LinearRegression\n",
    "from sklearn.linear_model import Ridge\n",
    "from sklearn.neighbors import KNeighborsRegressor\n",
    "\n",
    "X = X_train_reg\n",
    "y = y_train_reg\n",
    "\n",
    "param_grid = {}\n",
    "\n",
    "tscv = TimeSeriesSplit(n_splits = 5)\n",
    "# estimator = LinearRegression()\n",
    "# estimator = Ridge()\n",
    "# estimator = Lasso()\n",
    "# estimator = XGBRegressor()\n",
    "estimator = KNeighborsRegressor()\n",
    "\n",
    "reg = GridSearchCV(estimator, param_grid, cv=tscv, scoring='neg_mean_squared_error', n_jobs=-1, verbose=3, refit=False)\n",
    "reg.fit(X, y)"
   ]
  },
  {
   "cell_type": "code",
   "execution_count": 125,
   "metadata": {},
   "outputs": [
    {
     "data": {
      "text/plain": [
       "{'mean_fit_time': array([16.90068121]),\n",
       " 'std_fit_time': array([6.7406168]),\n",
       " 'mean_score_time': array([0.03962643]),\n",
       " 'std_score_time': array([0.00984713]),\n",
       " 'params': [{}],\n",
       " 'split0_test_score': array([-2254.46621336]),\n",
       " 'split1_test_score': array([-896.02440542]),\n",
       " 'split2_test_score': array([-491.02138298]),\n",
       " 'split3_test_score': array([-577.35960961]),\n",
       " 'split4_test_score': array([-1077.64514412]),\n",
       " 'split5_test_score': array([-1630.69142296]),\n",
       " 'split6_test_score': array([-1017.34061238]),\n",
       " 'split7_test_score': array([-679.60295384]),\n",
       " 'split8_test_score': array([-805.30577628]),\n",
       " 'split9_test_score': array([-427.09799716]),\n",
       " 'mean_test_score': array([-985.65555181]),\n",
       " 'std_test_score': array([537.86623374]),\n",
       " 'rank_test_score': array([1])}"
      ]
     },
     "execution_count": 125,
     "metadata": {},
     "output_type": "execute_result"
    }
   ],
   "source": [
    "reg.cv_results_"
   ]
  },
  {
   "cell_type": "markdown",
   "metadata": {},
   "source": [
    "1/4\n",
    "* linear: -4.13262343e+23\n",
    "* Ridge: -1532.9625362\n",
    "* Lasso: -1547.58009368\n",
    "* XGBRegressor: -1716.01527149\n",
    "\n",
    "1/7\n",
    "* linear: -1.83092378e+24\n",
    "* Ridge: -1262.86597915\n",
    "* Lasso: -1513.1613633\n",
    "* XGBRegressor: -985.65555181\n",
    "\n",
    "---\n",
    "5 fold below:  \n",
    "\n",
    "1/9"
   ]
  },
  {
   "cell_type": "markdown",
   "metadata": {},
   "source": [
    "### Predict"
   ]
  },
  {
   "cell_type": "code",
   "execution_count": 120,
   "metadata": {},
   "outputs": [],
   "source": [
    "# Linear Regeression\n",
    "\n",
    "linearReg = Ridge().fit(X, y)\n",
    "adr_pred = linearReg.predict(X_test_reg)\n",
    "pd.Series(adr_pred).to_csv('output/result_adr_ridge_MSE_1262.86597915.csv')"
   ]
  },
  {
   "cell_type": "code",
   "execution_count": 126,
   "metadata": {},
   "outputs": [],
   "source": [
    "# XgBoost\n",
    "from xgboost import XGBRegressor\n",
    "\n",
    "xgb = XGBRegressor().fit(X, y)\n",
    "adr_pred = xgb.predict(X_test_reg)\n",
    "pd.Series(adr_pred).to_csv('output/result_adr_xgb_MSE_985.65555181.csv')"
   ]
  },
  {
   "cell_type": "markdown",
   "metadata": {},
   "source": [
    "# Generate Label\n",
    "combinne 'is_canceled' and 'adr' with stayed nights\n",
    "\n",
    "try integer or float"
   ]
  },
  {
   "cell_type": "code",
   "execution_count": 14,
   "metadata": {},
   "outputs": [],
   "source": [
    "version = '14'\n",
    "prob_name = 'result_prob_xgboost1230 penalty=2 acc=84.6.csv'\n",
    "adr_name = 'adr_Xreg_results/DNN_Xreg_scaled_MSE2903_epoch200.csv'\n",
    "\n",
    "# ------------------------------------------------------------------\n",
    "rev_pred = pd.read_csv('test_datetime.csv').drop(columns=['ID'])\n",
    "test_linear = pd.read_csv('test_linear.csv')\n",
    "is_pred = pd.read_csv('output/' + prob_name)['0']\n",
    "adr_pred = pd.read_csv('output/' + adr_name)['adr']\n",
    "rev_pred['rev'] = (is_pred) * adr_pred * (test_linear['stays_in_weekend_nights'] +\n",
    "                                          test_linear['stays_in_week_nights'])\n",
    "rev_pred['datetime'] = pd.to_datetime(rev_pred['datetime'])\n",
    "\n",
    "rev_pred = rev_pred.groupby('datetime').sum()\n",
    "rev_pred.sort_values(by='datetime', inplace=True)\n",
    "rev_pred['label'] = rev_pred['rev'] // 10000\n",
    "\n",
    "result = pd.read_csv('test_nolabel.csv')\n",
    "result['label'] = rev_pred['label'].to_numpy()\n",
    "result['label'] = np.where(result['label'] > 9, 9, result['label'])\n",
    "\n",
    "result.to_csv('output/test_' + version + '.csv', index=False)"
   ]
  }
 ],
 "metadata": {
  "colab": {
   "name": "Boru.ipynb",
   "provenance": []
  },
  "kernelspec": {
   "display_name": "Python 3",
   "language": "python",
   "name": "python3"
  },
  "language_info": {
   "codemirror_mode": {
    "name": "ipython",
    "version": 3
   },
   "file_extension": ".py",
   "mimetype": "text/x-python",
   "name": "python",
   "nbconvert_exporter": "python",
   "pygments_lexer": "ipython3",
   "version": "3.9.1"
  }
 },
 "nbformat": 4,
 "nbformat_minor": 4
}
